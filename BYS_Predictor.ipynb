{
  "nbformat": 4,
  "nbformat_minor": 0,
  "metadata": {
    "colab": {
      "provenance": []
    },
    "kernelspec": {
      "name": "python3",
      "display_name": "Python 3"
    },
    "language_info": {
      "name": "python"
    },
    "widgets": {
      "application/vnd.jupyter.widget-state+json": {
        "219b24efdc374363b79ac339772d8353": {
          "model_module": "@jupyter-widgets/controls",
          "model_name": "FloatTextModel",
          "model_module_version": "1.5.0",
          "state": {
            "_dom_classes": [],
            "_model_module": "@jupyter-widgets/controls",
            "_model_module_version": "1.5.0",
            "_model_name": "FloatTextModel",
            "_view_count": null,
            "_view_module": "@jupyter-widgets/controls",
            "_view_module_version": "1.5.0",
            "_view_name": "FloatTextView",
            "continuous_update": false,
            "description": "Flange Thickness:",
            "description_tooltip": null,
            "disabled": false,
            "layout": "IPY_MODEL_9ed7a8e3859c4d52bb18c02b1fbd0e16",
            "step": null,
            "style": "IPY_MODEL_b7b8cb9fa19c41e1a180cbd75939db3b",
            "value": 0
          }
        },
        "9ed7a8e3859c4d52bb18c02b1fbd0e16": {
          "model_module": "@jupyter-widgets/base",
          "model_name": "LayoutModel",
          "model_module_version": "1.2.0",
          "state": {
            "_model_module": "@jupyter-widgets/base",
            "_model_module_version": "1.2.0",
            "_model_name": "LayoutModel",
            "_view_count": null,
            "_view_module": "@jupyter-widgets/base",
            "_view_module_version": "1.2.0",
            "_view_name": "LayoutView",
            "align_content": null,
            "align_items": null,
            "align_self": null,
            "border": null,
            "bottom": null,
            "display": null,
            "flex": null,
            "flex_flow": null,
            "grid_area": null,
            "grid_auto_columns": null,
            "grid_auto_flow": null,
            "grid_auto_rows": null,
            "grid_column": null,
            "grid_gap": null,
            "grid_row": null,
            "grid_template_areas": null,
            "grid_template_columns": null,
            "grid_template_rows": null,
            "height": null,
            "justify_content": null,
            "justify_items": null,
            "left": null,
            "margin": null,
            "max_height": null,
            "max_width": null,
            "min_height": null,
            "min_width": null,
            "object_fit": null,
            "object_position": null,
            "order": null,
            "overflow": null,
            "overflow_x": null,
            "overflow_y": null,
            "padding": null,
            "right": null,
            "top": null,
            "visibility": null,
            "width": "350px"
          }
        },
        "b7b8cb9fa19c41e1a180cbd75939db3b": {
          "model_module": "@jupyter-widgets/controls",
          "model_name": "DescriptionStyleModel",
          "model_module_version": "1.5.0",
          "state": {
            "_model_module": "@jupyter-widgets/controls",
            "_model_module_version": "1.5.0",
            "_model_name": "DescriptionStyleModel",
            "_view_count": null,
            "_view_module": "@jupyter-widgets/base",
            "_view_module_version": "1.2.0",
            "_view_name": "StyleView",
            "description_width": "180px"
          }
        },
        "62cfc5d3df8a4908a9035dee6ef4c3a1": {
          "model_module": "@jupyter-widgets/controls",
          "model_name": "FloatTextModel",
          "model_module_version": "1.5.0",
          "state": {
            "_dom_classes": [],
            "_model_module": "@jupyter-widgets/controls",
            "_model_module_version": "1.5.0",
            "_model_name": "FloatTextModel",
            "_view_count": null,
            "_view_module": "@jupyter-widgets/controls",
            "_view_module_version": "1.5.0",
            "_view_name": "FloatTextView",
            "continuous_update": false,
            "description": "Web Thickness:",
            "description_tooltip": null,
            "disabled": false,
            "layout": "IPY_MODEL_9ed7a8e3859c4d52bb18c02b1fbd0e16",
            "step": null,
            "style": "IPY_MODEL_902db6f1e0a648cc9d9b7ac8b8ab5911",
            "value": 0
          }
        },
        "902db6f1e0a648cc9d9b7ac8b8ab5911": {
          "model_module": "@jupyter-widgets/controls",
          "model_name": "DescriptionStyleModel",
          "model_module_version": "1.5.0",
          "state": {
            "_model_module": "@jupyter-widgets/controls",
            "_model_module_version": "1.5.0",
            "_model_name": "DescriptionStyleModel",
            "_view_count": null,
            "_view_module": "@jupyter-widgets/base",
            "_view_module_version": "1.2.0",
            "_view_name": "StyleView",
            "description_width": "180px"
          }
        },
        "1c70ec869f364639aa07cf875661fbea": {
          "model_module": "@jupyter-widgets/controls",
          "model_name": "FloatTextModel",
          "model_module_version": "1.5.0",
          "state": {
            "_dom_classes": [],
            "_model_module": "@jupyter-widgets/controls",
            "_model_module_version": "1.5.0",
            "_model_name": "FloatTextModel",
            "_view_count": null,
            "_view_module": "@jupyter-widgets/controls",
            "_view_module_version": "1.5.0",
            "_view_name": "FloatTextView",
            "continuous_update": false,
            "description": "Flange Width:",
            "description_tooltip": null,
            "disabled": false,
            "layout": "IPY_MODEL_9ed7a8e3859c4d52bb18c02b1fbd0e16",
            "step": null,
            "style": "IPY_MODEL_8d7ce9585eb2455caa85b959f349639a",
            "value": 0
          }
        },
        "8d7ce9585eb2455caa85b959f349639a": {
          "model_module": "@jupyter-widgets/controls",
          "model_name": "DescriptionStyleModel",
          "model_module_version": "1.5.0",
          "state": {
            "_model_module": "@jupyter-widgets/controls",
            "_model_module_version": "1.5.0",
            "_model_name": "DescriptionStyleModel",
            "_view_count": null,
            "_view_module": "@jupyter-widgets/base",
            "_view_module_version": "1.2.0",
            "_view_name": "StyleView",
            "description_width": "180px"
          }
        },
        "1c7e0652b04e410692f05fe9b08627a4": {
          "model_module": "@jupyter-widgets/controls",
          "model_name": "FloatTextModel",
          "model_module_version": "1.5.0",
          "state": {
            "_dom_classes": [],
            "_model_module": "@jupyter-widgets/controls",
            "_model_module_version": "1.5.0",
            "_model_name": "FloatTextModel",
            "_view_count": null,
            "_view_module": "@jupyter-widgets/controls",
            "_view_module_version": "1.5.0",
            "_view_name": "FloatTextView",
            "continuous_update": false,
            "description": "Web Yield Strength:",
            "description_tooltip": null,
            "disabled": false,
            "layout": "IPY_MODEL_9ed7a8e3859c4d52bb18c02b1fbd0e16",
            "step": null,
            "style": "IPY_MODEL_383b30e94dc74c2dbc0b8f3a20c4edb0",
            "value": 0
          }
        },
        "383b30e94dc74c2dbc0b8f3a20c4edb0": {
          "model_module": "@jupyter-widgets/controls",
          "model_name": "DescriptionStyleModel",
          "model_module_version": "1.5.0",
          "state": {
            "_model_module": "@jupyter-widgets/controls",
            "_model_module_version": "1.5.0",
            "_model_name": "DescriptionStyleModel",
            "_view_count": null,
            "_view_module": "@jupyter-widgets/base",
            "_view_module_version": "1.2.0",
            "_view_name": "StyleView",
            "description_width": "180px"
          }
        },
        "8fe4cf7c45514efbb4400a4018f460fa": {
          "model_module": "@jupyter-widgets/controls",
          "model_name": "FloatTextModel",
          "model_module_version": "1.5.0",
          "state": {
            "_dom_classes": [],
            "_model_module": "@jupyter-widgets/controls",
            "_model_module_version": "1.5.0",
            "_model_name": "FloatTextModel",
            "_view_count": null,
            "_view_module": "@jupyter-widgets/controls",
            "_view_module_version": "1.5.0",
            "_view_name": "FloatTextView",
            "continuous_update": false,
            "description": "Flange Yield Strength:",
            "description_tooltip": null,
            "disabled": false,
            "layout": "IPY_MODEL_9ed7a8e3859c4d52bb18c02b1fbd0e16",
            "step": null,
            "style": "IPY_MODEL_b2f62b6e8d724ca8853ae714f5300b54",
            "value": 0
          }
        },
        "b2f62b6e8d724ca8853ae714f5300b54": {
          "model_module": "@jupyter-widgets/controls",
          "model_name": "DescriptionStyleModel",
          "model_module_version": "1.5.0",
          "state": {
            "_model_module": "@jupyter-widgets/controls",
            "_model_module_version": "1.5.0",
            "_model_name": "DescriptionStyleModel",
            "_view_count": null,
            "_view_module": "@jupyter-widgets/base",
            "_view_module_version": "1.2.0",
            "_view_name": "StyleView",
            "description_width": "180px"
          }
        },
        "da10fafd0b4e4eeb8c9864a817f9ffaf": {
          "model_module": "@jupyter-widgets/controls",
          "model_name": "FloatTextModel",
          "model_module_version": "1.5.0",
          "state": {
            "_dom_classes": [],
            "_model_module": "@jupyter-widgets/controls",
            "_model_module_version": "1.5.0",
            "_model_name": "FloatTextModel",
            "_view_count": null,
            "_view_module": "@jupyter-widgets/controls",
            "_view_module_version": "1.5.0",
            "_view_name": "FloatTextView",
            "continuous_update": false,
            "description": "Tension Field Width:",
            "description_tooltip": null,
            "disabled": false,
            "layout": "IPY_MODEL_9ed7a8e3859c4d52bb18c02b1fbd0e16",
            "step": null,
            "style": "IPY_MODEL_fd972915fa504839b8df1289cd35d2ab",
            "value": 0
          }
        },
        "fd972915fa504839b8df1289cd35d2ab": {
          "model_module": "@jupyter-widgets/controls",
          "model_name": "DescriptionStyleModel",
          "model_module_version": "1.5.0",
          "state": {
            "_model_module": "@jupyter-widgets/controls",
            "_model_module_version": "1.5.0",
            "_model_name": "DescriptionStyleModel",
            "_view_count": null,
            "_view_module": "@jupyter-widgets/base",
            "_view_module_version": "1.2.0",
            "_view_name": "StyleView",
            "description_width": "180px"
          }
        },
        "fed89fef01664d69af2824a76eefa37a": {
          "model_module": "@jupyter-widgets/controls",
          "model_name": "FloatTextModel",
          "model_module_version": "1.5.0",
          "state": {
            "_dom_classes": [],
            "_model_module": "@jupyter-widgets/controls",
            "_model_module_version": "1.5.0",
            "_model_name": "FloatTextModel",
            "_view_count": null,
            "_view_module": "@jupyter-widgets/controls",
            "_view_module_version": "1.5.0",
            "_view_name": "FloatTextView",
            "continuous_update": false,
            "description": "Flange Depth:",
            "description_tooltip": null,
            "disabled": false,
            "layout": "IPY_MODEL_9ed7a8e3859c4d52bb18c02b1fbd0e16",
            "step": null,
            "style": "IPY_MODEL_d5ef9b597ca34256abafcbb319b22646",
            "value": 0
          }
        },
        "d5ef9b597ca34256abafcbb319b22646": {
          "model_module": "@jupyter-widgets/controls",
          "model_name": "DescriptionStyleModel",
          "model_module_version": "1.5.0",
          "state": {
            "_model_module": "@jupyter-widgets/controls",
            "_model_module_version": "1.5.0",
            "_model_name": "DescriptionStyleModel",
            "_view_count": null,
            "_view_module": "@jupyter-widgets/base",
            "_view_module_version": "1.2.0",
            "_view_name": "StyleView",
            "description_width": "180px"
          }
        },
        "4964c4b2bde14b7890ca83026e5b2066": {
          "model_module": "@jupyter-widgets/controls",
          "model_name": "FloatTextModel",
          "model_module_version": "1.5.0",
          "state": {
            "_dom_classes": [],
            "_model_module": "@jupyter-widgets/controls",
            "_model_module_version": "1.5.0",
            "_model_name": "FloatTextModel",
            "_view_count": null,
            "_view_module": "@jupyter-widgets/controls",
            "_view_module_version": "1.5.0",
            "_view_name": "FloatTextView",
            "continuous_update": false,
            "description": "Moment Span Length:",
            "description_tooltip": null,
            "disabled": false,
            "layout": "IPY_MODEL_9ed7a8e3859c4d52bb18c02b1fbd0e16",
            "step": null,
            "style": "IPY_MODEL_ed26d2ea01ea41d080ba6e8c1ec49135",
            "value": 0
          }
        },
        "ed26d2ea01ea41d080ba6e8c1ec49135": {
          "model_module": "@jupyter-widgets/controls",
          "model_name": "DescriptionStyleModel",
          "model_module_version": "1.5.0",
          "state": {
            "_model_module": "@jupyter-widgets/controls",
            "_model_module_version": "1.5.0",
            "_model_name": "DescriptionStyleModel",
            "_view_count": null,
            "_view_module": "@jupyter-widgets/base",
            "_view_module_version": "1.2.0",
            "_view_name": "StyleView",
            "description_width": "180px"
          }
        },
        "522afc2e0213478f833c0932153ebcb1": {
          "model_module": "@jupyter-widgets/controls",
          "model_name": "ButtonModel",
          "model_module_version": "1.5.0",
          "state": {
            "_dom_classes": [],
            "_model_module": "@jupyter-widgets/controls",
            "_model_module_version": "1.5.0",
            "_model_name": "ButtonModel",
            "_view_count": null,
            "_view_module": "@jupyter-widgets/controls",
            "_view_module_version": "1.5.0",
            "_view_name": "ButtonView",
            "button_style": "success",
            "description": "Predict",
            "disabled": false,
            "icon": "",
            "layout": "IPY_MODEL_70d800bdcbd04680b2d47e39691fed9e",
            "style": "IPY_MODEL_fea8433b8fa344aead26a10fe9159655",
            "tooltip": ""
          }
        },
        "70d800bdcbd04680b2d47e39691fed9e": {
          "model_module": "@jupyter-widgets/base",
          "model_name": "LayoutModel",
          "model_module_version": "1.2.0",
          "state": {
            "_model_module": "@jupyter-widgets/base",
            "_model_module_version": "1.2.0",
            "_model_name": "LayoutModel",
            "_view_count": null,
            "_view_module": "@jupyter-widgets/base",
            "_view_module_version": "1.2.0",
            "_view_name": "LayoutView",
            "align_content": null,
            "align_items": null,
            "align_self": null,
            "border": null,
            "bottom": null,
            "display": null,
            "flex": null,
            "flex_flow": null,
            "grid_area": null,
            "grid_auto_columns": null,
            "grid_auto_flow": null,
            "grid_auto_rows": null,
            "grid_column": null,
            "grid_gap": null,
            "grid_row": null,
            "grid_template_areas": null,
            "grid_template_columns": null,
            "grid_template_rows": null,
            "height": null,
            "justify_content": null,
            "justify_items": null,
            "left": null,
            "margin": null,
            "max_height": null,
            "max_width": null,
            "min_height": null,
            "min_width": null,
            "object_fit": null,
            "object_position": null,
            "order": null,
            "overflow": null,
            "overflow_x": null,
            "overflow_y": null,
            "padding": null,
            "right": null,
            "top": null,
            "visibility": null,
            "width": null
          }
        },
        "fea8433b8fa344aead26a10fe9159655": {
          "model_module": "@jupyter-widgets/controls",
          "model_name": "ButtonStyleModel",
          "model_module_version": "1.5.0",
          "state": {
            "_model_module": "@jupyter-widgets/controls",
            "_model_module_version": "1.5.0",
            "_model_name": "ButtonStyleModel",
            "_view_count": null,
            "_view_module": "@jupyter-widgets/base",
            "_view_module_version": "1.2.0",
            "_view_name": "StyleView",
            "button_color": null,
            "font_weight": ""
          }
        },
        "8376e1f763004ae9ac78dfb8666860f2": {
          "model_module": "@jupyter-widgets/controls",
          "model_name": "LabelModel",
          "model_module_version": "1.5.0",
          "state": {
            "_dom_classes": [],
            "_model_module": "@jupyter-widgets/controls",
            "_model_module_version": "1.5.0",
            "_model_name": "LabelModel",
            "_view_count": null,
            "_view_module": "@jupyter-widgets/controls",
            "_view_module_version": "1.5.0",
            "_view_name": "LabelView",
            "description": "",
            "description_tooltip": null,
            "layout": "IPY_MODEL_78b648b03c4e4ff6b93ade05f15411c4",
            "placeholder": "​",
            "style": "IPY_MODEL_08d9abbf32cb472c99c691f99c616e66",
            "value": "Prediction: "
          }
        },
        "78b648b03c4e4ff6b93ade05f15411c4": {
          "model_module": "@jupyter-widgets/base",
          "model_name": "LayoutModel",
          "model_module_version": "1.2.0",
          "state": {
            "_model_module": "@jupyter-widgets/base",
            "_model_module_version": "1.2.0",
            "_model_name": "LayoutModel",
            "_view_count": null,
            "_view_module": "@jupyter-widgets/base",
            "_view_module_version": "1.2.0",
            "_view_name": "LayoutView",
            "align_content": null,
            "align_items": null,
            "align_self": null,
            "border": null,
            "bottom": null,
            "display": null,
            "flex": null,
            "flex_flow": null,
            "grid_area": null,
            "grid_auto_columns": null,
            "grid_auto_flow": null,
            "grid_auto_rows": null,
            "grid_column": null,
            "grid_gap": null,
            "grid_row": null,
            "grid_template_areas": null,
            "grid_template_columns": null,
            "grid_template_rows": null,
            "height": null,
            "justify_content": null,
            "justify_items": null,
            "left": null,
            "margin": null,
            "max_height": null,
            "max_width": null,
            "min_height": null,
            "min_width": null,
            "object_fit": null,
            "object_position": null,
            "order": null,
            "overflow": null,
            "overflow_x": null,
            "overflow_y": null,
            "padding": null,
            "right": null,
            "top": null,
            "visibility": null,
            "width": null
          }
        },
        "08d9abbf32cb472c99c691f99c616e66": {
          "model_module": "@jupyter-widgets/controls",
          "model_name": "DescriptionStyleModel",
          "model_module_version": "1.5.0",
          "state": {
            "_model_module": "@jupyter-widgets/controls",
            "_model_module_version": "1.5.0",
            "_model_name": "DescriptionStyleModel",
            "_view_count": null,
            "_view_module": "@jupyter-widgets/base",
            "_view_module_version": "1.2.0",
            "_view_name": "StyleView",
            "description_width": ""
          }
        }
      }
    }
  },
  "cells": [
    {
      "cell_type": "markdown",
      "source": [
        "# Import necessary libraries"
      ],
      "metadata": {
        "id": "ZxQluvmdHwKd"
      }
    },
    {
      "cell_type": "code",
      "source": [
        "import numpy as np\n",
        "import joblib\n",
        "from ipywidgets import Layout\n",
        "import ipywidgets as widgets\n",
        "from IPython.display import display"
      ],
      "metadata": {
        "id": "7uL5pzanHSTq"
      },
      "execution_count": null,
      "outputs": []
    },
    {
      "cell_type": "markdown",
      "source": [
        "# Load the trained model and scaler\n"
      ],
      "metadata": {
        "id": "t2ZNJtYiHiWx"
      }
    },
    {
      "cell_type": "code",
      "source": [
        "model = joblib.load('/content/xgb_model.pkl')  # XGBoost trained model\n",
        "scaler = joblib.load('scaler.pkl')  # StandardScaler used for input/output scaling"
      ],
      "metadata": {
        "id": "rlYn_ejfHhTl"
      },
      "execution_count": null,
      "outputs": []
    },
    {
      "cell_type": "code",
      "source": [
        "# Display model details for debugging (Optional)\n",
        "# print(\"Model type:\", type(model))\n",
        "# print(\"Expected number of features:\", model.n_features_in_)"
      ],
      "metadata": {
        "id": "Kj11WnakH-sx"
      },
      "execution_count": null,
      "outputs": []
    },
    {
      "cell_type": "markdown",
      "source": [
        "#GUI for Prediction"
      ],
      "metadata": {
        "id": "ZtSPrALgH2Iz"
      }
    },
    {
      "cell_type": "code",
      "execution_count": null,
      "metadata": {
        "colab": {
          "base_uri": "https://localhost:8080/",
          "height": 324,
          "referenced_widgets": [
            "219b24efdc374363b79ac339772d8353",
            "9ed7a8e3859c4d52bb18c02b1fbd0e16",
            "b7b8cb9fa19c41e1a180cbd75939db3b",
            "62cfc5d3df8a4908a9035dee6ef4c3a1",
            "902db6f1e0a648cc9d9b7ac8b8ab5911",
            "1c70ec869f364639aa07cf875661fbea",
            "8d7ce9585eb2455caa85b959f349639a",
            "1c7e0652b04e410692f05fe9b08627a4",
            "383b30e94dc74c2dbc0b8f3a20c4edb0",
            "8fe4cf7c45514efbb4400a4018f460fa",
            "b2f62b6e8d724ca8853ae714f5300b54",
            "da10fafd0b4e4eeb8c9864a817f9ffaf",
            "fd972915fa504839b8df1289cd35d2ab",
            "fed89fef01664d69af2824a76eefa37a",
            "d5ef9b597ca34256abafcbb319b22646",
            "4964c4b2bde14b7890ca83026e5b2066",
            "ed26d2ea01ea41d080ba6e8c1ec49135",
            "522afc2e0213478f833c0932153ebcb1",
            "70d800bdcbd04680b2d47e39691fed9e",
            "fea8433b8fa344aead26a10fe9159655",
            "8376e1f763004ae9ac78dfb8666860f2",
            "78b648b03c4e4ff6b93ade05f15411c4",
            "08d9abbf32cb472c99c691f99c616e66"
          ]
        },
        "id": "_8w_PWOWGH6l",
        "outputId": "ecb594fc-1399-4564-f057-53231277152d"
      },
      "outputs": [
        {
          "output_type": "display_data",
          "data": {
            "text/plain": [
              "FloatText(value=0.0, description='Flange Thickness:', layout=Layout(width='350px'), style=DescriptionStyle(des…"
            ],
            "application/vnd.jupyter.widget-view+json": {
              "version_major": 2,
              "version_minor": 0,
              "model_id": "219b24efdc374363b79ac339772d8353"
            }
          },
          "metadata": {}
        },
        {
          "output_type": "display_data",
          "data": {
            "text/plain": [
              "FloatText(value=0.0, description='Web Thickness:', layout=Layout(width='350px'), style=DescriptionStyle(descri…"
            ],
            "application/vnd.jupyter.widget-view+json": {
              "version_major": 2,
              "version_minor": 0,
              "model_id": "62cfc5d3df8a4908a9035dee6ef4c3a1"
            }
          },
          "metadata": {}
        },
        {
          "output_type": "display_data",
          "data": {
            "text/plain": [
              "FloatText(value=0.0, description='Flange Width:', layout=Layout(width='350px'), style=DescriptionStyle(descrip…"
            ],
            "application/vnd.jupyter.widget-view+json": {
              "version_major": 2,
              "version_minor": 0,
              "model_id": "1c70ec869f364639aa07cf875661fbea"
            }
          },
          "metadata": {}
        },
        {
          "output_type": "display_data",
          "data": {
            "text/plain": [
              "FloatText(value=0.0, description='Web Yield Strength:', layout=Layout(width='350px'), style=DescriptionStyle(d…"
            ],
            "application/vnd.jupyter.widget-view+json": {
              "version_major": 2,
              "version_minor": 0,
              "model_id": "1c7e0652b04e410692f05fe9b08627a4"
            }
          },
          "metadata": {}
        },
        {
          "output_type": "display_data",
          "data": {
            "text/plain": [
              "FloatText(value=0.0, description='Flange Yield Strength:', layout=Layout(width='350px'), style=DescriptionStyl…"
            ],
            "application/vnd.jupyter.widget-view+json": {
              "version_major": 2,
              "version_minor": 0,
              "model_id": "8fe4cf7c45514efbb4400a4018f460fa"
            }
          },
          "metadata": {}
        },
        {
          "output_type": "display_data",
          "data": {
            "text/plain": [
              "FloatText(value=0.0, description='Tension Field Width:', layout=Layout(width='350px'), style=DescriptionStyle(…"
            ],
            "application/vnd.jupyter.widget-view+json": {
              "version_major": 2,
              "version_minor": 0,
              "model_id": "da10fafd0b4e4eeb8c9864a817f9ffaf"
            }
          },
          "metadata": {}
        },
        {
          "output_type": "display_data",
          "data": {
            "text/plain": [
              "FloatText(value=0.0, description='Flange Depth:', layout=Layout(width='350px'), style=DescriptionStyle(descrip…"
            ],
            "application/vnd.jupyter.widget-view+json": {
              "version_major": 2,
              "version_minor": 0,
              "model_id": "fed89fef01664d69af2824a76eefa37a"
            }
          },
          "metadata": {}
        },
        {
          "output_type": "display_data",
          "data": {
            "text/plain": [
              "FloatText(value=0.0, description='Moment Span Length:', layout=Layout(width='350px'), style=DescriptionStyle(d…"
            ],
            "application/vnd.jupyter.widget-view+json": {
              "version_major": 2,
              "version_minor": 0,
              "model_id": "4964c4b2bde14b7890ca83026e5b2066"
            }
          },
          "metadata": {}
        },
        {
          "output_type": "display_data",
          "data": {
            "text/plain": [
              "Button(button_style='success', description='Predict', style=ButtonStyle())"
            ],
            "application/vnd.jupyter.widget-view+json": {
              "version_major": 2,
              "version_minor": 0,
              "model_id": "522afc2e0213478f833c0932153ebcb1"
            }
          },
          "metadata": {}
        },
        {
          "output_type": "display_data",
          "data": {
            "text/plain": [
              "Label(value='Prediction: ')"
            ],
            "application/vnd.jupyter.widget-view+json": {
              "version_major": 2,
              "version_minor": 0,
              "model_id": "8376e1f763004ae9ac78dfb8666860f2"
            }
          },
          "metadata": {}
        }
      ],
      "source": [
        "# Create input fields for user input\n",
        "wide_layout = Layout(width='350px')  # Adjust width as needed\n",
        "label_style = {'description_width': '180px'}  # Adjust as needed\n",
        "\n",
        "\n",
        "tf = widgets.FloatText(description=\"Flange Thickness:\", layout=wide_layout, style=label_style)\n",
        "tw = widgets.FloatText(description=\"Web Thickness:\", layout=wide_layout, style=label_style)\n",
        "bf = widgets.FloatText(description=\"Flange Width:\", layout=wide_layout, style=label_style)\n",
        "#hw = widgets.FloatText(description=\"Web Height:\", layout=wide_layout, style=label_style)\n",
        "fyw = widgets.FloatText(description=\"Web Yield Strength:\", layout=wide_layout, style=label_style)\n",
        "fyf = widgets.FloatText(description=\"Flange Yield Strength:\", layout=wide_layout, style=label_style)\n",
        "b = widgets.FloatText(description=\"Tension Field Width:\", layout=wide_layout, style=label_style)\n",
        "L = widgets.FloatText(description=\"Moment Span Length:\", layout=wide_layout, style=label_style)\n",
        "d = widgets.FloatText(description=\"Flange Depth:\", layout=wide_layout, style=label_style)\n",
        "\n",
        "# Output display field\n",
        "output_label = widgets.Label(value=\"Prediction: \")\n",
        "\n",
        "# Function to process user input, scale it, predict, and unscale the output\n",
        "def predict_model(button):\n",
        "    try:\n",
        "        # Retrieve user inputs and convert them to floats\n",
        "        tf_val = float(tf.value) if tf.value else 0\n",
        "        tw_val = float(tw.value) if tw.value else 0\n",
        "        bf_val = float(bf.value) if bf.value else 0\n",
        "        #hw_val = float(hw.value) if hw.value else 0\n",
        "        fyw_val = float(fyw.value) if fyw.value else 0\n",
        "        fyf_val = float(fyf.value) if fyf.value else 0\n",
        "        b_val = float(b.value) if b.value else 0\n",
        "        L_val = float(L.value) if L.value else 0\n",
        "        d_val = float(d.value) if d.value else 0\n",
        "\n",
        "        # Debugging: Print parsed values\n",
        "        #print(\"Parsed values:\", tf_val, tw_val, bf_val, hw_val, fyw_val, fyf_val, b_val, L_val)\n",
        "\n",
        "        # Prevent division by zero errors\n",
        "        if tw_val == 0 or tf_val == 0 or b_val == 0:\n",
        "            output_label.value = \"Error: Inputs cannot be zero.\"\n",
        "            return\n",
        "\n",
        "        # Compute derived feature ratios for the model\n",
        "        tf_tw = tf_val / tw_val\n",
        "        bf_2tf = bf_val / (2 * tf_val)\n",
        "        hw_tw = d_val / tw_val\n",
        "        fyw_fyf = fyw_val / fyf_val\n",
        "        bf_hw = bf_val / d_val\n",
        "        b_d = b_val / d_val\n",
        "        L_b = L_val / b_val\n",
        "\n",
        "        # Create input feature array\n",
        "        inputs = np.array([[tf_tw, bf_2tf, hw_tw, fyw_fyf, bf_hw, b_d, L_b]])\n",
        "\n",
        "        # Add a placeholder column (0) to match the 8-column scaler shape\n",
        "        inputs_with_placeholder = np.hstack((inputs, np.zeros((inputs.shape[0], 1))))\n",
        "\n",
        "        # Scale the inputs using the saved scaler\n",
        "        inputs_scaled = scaler.transform(inputs_with_placeholder)\n",
        "\n",
        "        # Remove the placeholder column before passing to the model\n",
        "        inputs_scaled = inputs_scaled[:, :-1]\n",
        "\n",
        "        # Predict using the trained model (scaled output)\n",
        "        y_pred_scaled = model.predict(inputs_scaled)\n",
        "\n",
        "        # Create a dummy array to hold the scaled output for inverse transformation\n",
        "        dummy_array = np.zeros((y_pred_scaled.shape[0], 8))  # 8 columns (7 input + 1 output)\n",
        "        dummy_array[:, -1] = y_pred_scaled  # Place prediction in last column\n",
        "\n",
        "        # Inverse transform to get the actual output\n",
        "        y_pred_unscaled = scaler.inverse_transform(dummy_array)[:, -1]\n",
        "\n",
        "        # Display the final unscaled prediction in kN\n",
        "        output_label.value = f\"Prediction: {y_pred_unscaled[0]:.2f} kN\"\n",
        "\n",
        "    except ValueError as ve:\n",
        "        output_label.value = f\"Value Error: Invalid numeric values.\"\n",
        "        print(\"Error details:\", ve)\n",
        "\n",
        "    except Exception as e:\n",
        "        output_label.value = f\"Unexpected error: {str(e)}\"\n",
        "        print(\"Unexpected error:\", e)\n",
        "\n",
        "# Create Predict button\n",
        "predict_button = widgets.Button(description=\"Predict\", button_style='success')\n",
        "predict_button.on_click(predict_model)\n",
        "\n",
        "# Display all widgets\n",
        "display(tf, tw, bf, fyw, fyf, b, d, L, predict_button, output_label)\n"
      ]
    },
    {
      "cell_type": "code",
      "source": [],
      "metadata": {
        "id": "iEW_mx1NHQ1T"
      },
      "execution_count": null,
      "outputs": []
    }
  ]
}